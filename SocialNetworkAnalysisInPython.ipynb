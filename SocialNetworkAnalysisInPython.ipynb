{
 "cells": [
  {
   "cell_type": "markdown",
   "metadata": {},
   "source": [
    "**Planteamiento del problema: Análisis de redes sociales**\n",
    "\n",
    "Se le proporciona un conjunto de datos que representa una red social. Cada usuario se identifica mediante un ID de usuario único. Las relaciones entre los usuarios se representan como una lista de tuplas, donde cada tupla contiene dos ID de usuario que indican una amistad bidireccional. Su tarea es analizar la red social para encontrar lo siguiente:\n",
    "\n",
    "1. Amigos en común:\n",
    "Escriba una función find_mutual_friends(id1, id2, amigos) que devuelva una lista de amigos en común entre dos usuarios.\n",
    "\n",
    "2. Sugerencias de amigos:\n",
    "Escriba una función suggest_friends(id, amigos) que sugiera nuevos amigos a un usuario en función de los amigos en común. La función debe devolver una lista de amigos sugeridos ordenados por la cantidad de amigos en común en orden descendente.\n",
    "\n",
    "3. Usuario más conectado:\n",
    "Escriba una función most_connected(amigos) que devuelva el ID de usuario de la persona que tiene más amigos en la red.\n",
    "\n",
    "\n",
    "Conjunto de datos:\n",
    "Puede simular los datos de la red social utilizando el siguiente ejemplo:\n",
    "\n",
    "amigos = [\n",
    "(1, 2), (1, 3), (1, 4),\n",
    "(2, 3), (2, 5),\n",
    "(3, 4), (3, 5),\n",
    "(4, 6),\n",
    "(7, 8), (8, 9)\n",
    "]\n"
   ]
  },
  {
   "cell_type": "code",
   "execution_count": null,
   "metadata": {
    "id": "mK-tkeEFFrLK"
   },
   "outputs": [],
   "source": [
    "# datos de la red social\n",
    "amigos = [(1, 2), (1, 3),\n",
    "          (1, 4), (2, 3),\n",
    "          (2, 5), (3, 4),\n",
    "          (3, 5), (4, 6),\n",
    "          (7, 8), (8, 9)\n",
    "         ]\n"
   ]
  },
  {
   "cell_type": "markdown",
   "metadata": {
    "id": "llSbInDEE1iI"
   },
   "source": [
    "**Escriba una función find_mutual_friends(id1, id2, amigos) que devuelva una lista de amigos en común entre dos usuarios.**"
   ]
  },
  {
   "cell_type": "code",
   "execution_count": null,
   "metadata": {
    "colab": {
     "base_uri": "https://localhost:8080/"
    },
    "id": "2eXNjTBrE50j",
    "outputId": "b7adc9d8-7e92-4769-ccf4-30fc7845460e"
   },
   "outputs": [
    {
     "name": "stdout",
     "output_type": "stream",
     "text": [
      "Digite el id1: 4\n",
      "Digite el id2: 3\n",
      "Amigos en común de 4 y 3: [1]\n"
     ]
    }
   ],
   "source": [
    "def find_mutual_friends(id1, id2, amigos):\n",
    "\n",
    "    amigos_de_id1 = set()\n",
    "    amigos_de_id2 = set()\n",
    "\n",
    "    for i, j in amigos:\n",
    "        if i == id1:\n",
    "            amigos_de_id1.add(j)\n",
    "        elif j == id1:\n",
    "            amigos_de_id1.add(i)\n",
    "\n",
    "        if i == id2:\n",
    "            amigos_de_id2.add(j)\n",
    "        elif j == id1:\n",
    "            amigos_de_id2.add(i)\n",
    "\n",
    "    amigos_en_comun = list(amigos_de_id1.intersection(amigos_de_id2))\n",
    "\n",
    "    return amigos_en_comun\n",
    "\n",
    "id1 = int(input(\"Digite el id1: \"))\n",
    "id2 = int(input(\"Digite el id2: \"))\n",
    "\n",
    "print(f'Amigos en común de {id1} y {id2}: {find_mutual_friends(id1, id2, amigos)}')"
   ]
  },
  {
   "cell_type": "markdown",
   "metadata": {
    "id": "U9m4bgLFIlyG"
   },
   "source": [
    "**Escriba una función suggest_friends(id, amigos) que sugiera nuevos amigos a un usuario en función de los amigos en común. La función debe devolver una lista de amigos sugeridos ordenados por la cantidad de amigos en común en orden descendente.**"
   ]
  },
  {
   "cell_type": "code",
   "execution_count": null,
   "metadata": {
    "colab": {
     "base_uri": "https://localhost:8080/"
    },
    "id": "lMxValqaInOb",
    "outputId": "e7f6609b-df47-4977-ad37-41ca09bcb710"
   },
   "outputs": [
    {
     "name": "stdout",
     "output_type": "stream",
     "text": [
      "Ingrese el id: 4\n",
      "Sugerencias de amigos para 4: [2, 5]\n"
     ]
    }
   ],
   "source": [
    "id = int(input(\"Ingrese el id: \"))\n",
    "\n",
    "def suggest_friends(id, amigos):\n",
    "  amigos_de_id = []\n",
    "  amigos_sugeridos = []\n",
    "\n",
    "  for i in range(len(amigos)):\n",
    "    if id == amigos[i][0]:\n",
    "      amigos_de_id.append(amigos[i][1])\n",
    "    elif id == amigos[i][1]:\n",
    "      amigos_de_id.append(amigos[i][0])\n",
    "\n",
    "  for i in range(len(amigos)):\n",
    "    if (amigos[i][0] in amigos_de_id) and id != amigos[i][1] and amigos[i][1] not in amigos_de_id:\n",
    "      amigos_sugeridos.append(amigos[i][1])\n",
    "    elif (amigos[i][1] in amigos_de_id) and id != amigos[i][0] and amigos[i][0] not in amigos_de_id:\n",
    "      amigos_sugeridos.append(amigos[i][0])\n",
    "\n",
    "  return list(set(sorted(amigos_sugeridos, key=amigos_sugeridos.count, reverse=True)))\n",
    "\n",
    "print(f'Sugerencias de amigos para {id}: {suggest_friends(id, amigos)}')"
   ]
  },
  {
   "cell_type": "markdown",
   "metadata": {
    "id": "QaVR49JfO38g"
   },
   "source": [
    "**Escriba una función most_connected(amigos) que devuelva el ID de usuario de la persona que tiene más amigos en la red.**"
   ]
  },
  {
   "cell_type": "code",
   "execution_count": null,
   "metadata": {
    "colab": {
     "base_uri": "https://localhost:8080/"
    },
    "id": "rnGBAxfEO5gs",
    "outputId": "cd3a3a9d-f546-42a2-bd96-a24df2f8e7c9"
   },
   "outputs": [
    {
     "name": "stdout",
     "output_type": "stream",
     "text": [
      "Usuario más conectado: 3\n"
     ]
    }
   ],
   "source": [
    "def most_connected(amigos):\n",
    "    amigos_en_la_red = {}\n",
    "    for i, j in amigos:\n",
    "        if i in amigos_en_la_red:\n",
    "            amigos_en_la_red[i] += 1\n",
    "        else:\n",
    "            amigos_en_la_red[i] = 1\n",
    "\n",
    "        if j in amigos_en_la_red:\n",
    "            amigos_en_la_red[j] += 1\n",
    "        else:\n",
    "            amigos_en_la_red[j] = 1\n",
    "\n",
    "    return max(amigos_en_la_red, key=amigos_en_la_red.get)\n",
    "\n",
    "print(f'Usuario más conectado: {most_connected(amigos)}')"
   ]
  }
 ],
 "metadata": {
  "colab": {
   "provenance": []
  },
  "kernelspec": {
   "display_name": "Python 3",
   "name": "python3"
  },
  "language_info": {
   "name": "python"
  }
 },
 "nbformat": 4,
 "nbformat_minor": 0
}
